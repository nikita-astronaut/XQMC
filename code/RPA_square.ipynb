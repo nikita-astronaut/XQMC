{
 "cells": [
  {
   "cell_type": "code",
   "execution_count": 692,
   "metadata": {},
   "outputs": [
    {
     "name": "stdout",
     "output_type": "stream",
     "text": [
      "(array([-4.        , -3.96157056, -3.96157056, ...,  3.96157056,\n",
      "        3.96157056,  4.        ]), array([[-3.12500000e-02, -7.54823842e-03,  6.20425185e-02, ...,\n",
      "        -3.09713340e-16, -6.58544457e-21,  3.12500000e-02],\n",
      "       [-3.12500000e-02, -2.16033450e-03,  6.20931359e-02, ...,\n",
      "        -2.34746862e-03, -3.09825850e-03, -3.12500000e-02],\n",
      "       [-3.12500000e-02,  4.13224518e-03,  6.10672887e-02, ...,\n",
      "         4.93939878e-03,  5.00423923e-03,  3.12500000e-02],\n",
      "       ...,\n",
      "       [-3.12500000e-02, -1.55263591e-02,  5.51615853e-02, ...,\n",
      "        -1.28962639e-02, -1.58466894e-02,  3.12500000e-02],\n",
      "       [-3.12500000e-02, -1.39175995e-02,  5.82664146e-02, ...,\n",
      "         1.17690336e-02,  1.00447950e-02, -3.12500000e-02],\n",
      "       [-3.12500000e-02, -1.09174863e-02,  6.04228327e-02, ...,\n",
      "        -1.01682624e-02, -4.96041699e-03,  3.12500000e-02]]))\n"
     ]
    }
   ],
   "source": [
    "import numpy as np\n",
    "from numba import jit\n",
    "\n",
    "@jit(nopython=True)\n",
    "def fermi(energy, beta):\n",
    "    return np.exp(-energy * beta) / (1. + np.exp(-energy * beta))\n",
    "\n",
    "@jit(nopython=True)\n",
    "def get_fft(N):\n",
    "    W = np.zeros((N ** 2, N ** 2), dtype=np.complex128)\n",
    "    for kx in range(N):\n",
    "        for ky in range(N):\n",
    "            for x in range(N):\n",
    "                for y in range(N):\n",
    "                    W[x * N + y, kx * N + ky] = np.exp(2.0j * np.pi / N * kx * x + 2.0j * np.pi / N * ky * y)\n",
    "    return W\n",
    "\n",
    "L = 32\n",
    "K = np.zeros((L ** 2, L ** 2), dtype=np.float64)\n",
    "tp = 0.0\n",
    "for x in range(L):\n",
    "    for y in range(L):\n",
    "        idx = y * L + x\n",
    "        idx_up = ((y + 1) % L) * L + x\n",
    "        idx_right = y * L + (x + 1) % L\n",
    "        \n",
    "        K[idx, idx_up] = -1.\n",
    "        K[idx, idx_right] = -1.\n",
    "        \n",
    "        idx_up = ((y + 1) % L) * L + (x + 1) % L\n",
    "        idx_right = ((y - 1) % L) * L + (x + 1) % L\n",
    "        \n",
    "        K[idx, idx_up] = tp\n",
    "        K[idx, idx_right] = tp\n",
    "        \n",
    "        \n",
    "K0 = K + K.T\n",
    "print(np.linalg.eigh(K0))\n",
    "K0 = K0 - np.diag(np.diag(K0) * 0. + 0.001)\n",
    "Ls = L\n",
    "\n",
    "n_bands = 1\n",
    "fft = get_fft(Ls)\n",
    "\n",
    "### doing the FFT of K0 ###\n",
    "K0_fft = fft.conj().T.dot(K0).dot(fft)\n",
    "\n",
    "K0_check = K0_fft.copy()\n",
    "for i in range(K0_check.shape[0] // n_bands):\n",
    "    K0_check[i * n_bands:i * n_bands + n_bands,i * n_bands:i * n_bands + n_bands] = 0.0\n",
    "#assert np.isclose(np.sum(np.abs(K0_check)), 0.0)\n",
    "\n",
    "A = np.zeros((L, L, n_bands, n_bands), dtype=np.complex128)\n",
    "energies = np.zeros((L, L, n_bands), dtype=np.complex128)\n",
    "for i in range(K0_check.shape[0] // n_bands):\n",
    "    kx, ky = i % L, i // L\n",
    "    A[kx, ky, ...] = np.linalg.eigh(K0_fft[i * n_bands:i * n_bands + n_bands,i * n_bands:i * n_bands + n_bands])[1]\n",
    "    energies[kx, ky, ...] = np.linalg.eigh(K0_fft[i * n_bands:i * n_bands + n_bands,i * n_bands:i * n_bands + n_bands])[0]\n",
    "\n",
    "    \n",
    "@jit(nopython=True)\n",
    "def get_susc_zero(Ls, n_bands, A, A_plus_q, energies, energies_plus_q, omega, temp):\n",
    "    chi = np.zeros((n_bands, n_bands, n_bands, n_bands), dtype=np.complex128)\n",
    "    for kx in range(Ls):\n",
    "        for ky in range(Ls):\n",
    "            for alpha in range(n_bands):\n",
    "                for beta in range(n_bands):\n",
    "                    for p in range(n_bands):\n",
    "                        for q in range(n_bands):\n",
    "                            for s in range(n_bands):\n",
    "                                for t in range(n_bands):\n",
    "                                    chi[p, q, s, t] -= A[kx, ky, s, alpha] * \\\n",
    "                                               np.conj(A[kx, ky, p, alpha]) * \\\n",
    "                                                       A_plus_q[kx, ky, q, beta] * \\\n",
    "                                               np.conj(A_plus_q[kx, ky, t, beta]) / \\\n",
    "                                                (omega + energies_plus_q[kx, ky, beta] - energies[kx, ky, alpha] + 1e-10j) * \\\n",
    "                                                (fermi(energies_plus_q[kx, ky, beta], temp) - fermi(energies[kx, ky, alpha], temp))\n",
    "                 \n",
    "    return chi / n_bands / Ls ** 2 ## FIXME: factor?\n",
    "\n",
    "omega = 0.\n",
    "beta = 0.01\n",
    "susc_0 = np.zeros((L, L, n_bands, n_bands, n_bands, n_bands), dtype=np.complex128)\n",
    "for qx in range(Ls):\n",
    "    for qy in range(Ls):\n",
    "        A_plus_q = np.roll(A, shift = qx, axis=0)\n",
    "        A_plus_q = np.roll(A_plus_q, shift = qy, axis=1)\n",
    "    \n",
    "        energies_plus_q = np.roll(energies, shift = qx, axis=0)\n",
    "        energies_plus_q = np.roll(energies_plus_q, shift = qy, axis=1)\n",
    "        susc_0[qx, qy, ...] = get_susc_zero(Ls, n_bands, A, A_plus_q, energies, energies_plus_q, omega, beta)\n",
    "\n",
    "green = np.zeros((Ls, Ls, n_bands, n_bands), dtype=np.complex128)\n",
    "for kx in range(Ls):\n",
    "    for ky in range(Ls):\n",
    "        for a in range(n_bands):\n",
    "            for b in range(n_bands):\n",
    "                for band in range(n_bands):\n",
    "                    green[kx, ky, a, b] =+ A[kx, ky, a, band] * np.conj(A[kx, ky, b, band]) / (-energies[kx, ky, band])\n"
   ]
  },
  {
   "cell_type": "code",
   "execution_count": 693,
   "metadata": {},
   "outputs": [
    {
     "data": {
      "image/png": "[encoded data removed]",
      "text/plain": [
       "<Figure size 432x288 with 2 Axes>"
      ]
     },
     "metadata": {
      "needs_background": "light"
     },
     "output_type": "display_data"
    }
   ],
   "source": [
    "import matplotlib.pyplot as plt\n",
    "plt.imshow(susc_uniform, cmap='hot', interpolation='nearest')\n",
    "plt.colorbar()\n",
    "plt.show()"
   ]
  },
  {
   "cell_type": "code",
   "execution_count": 719,
   "metadata": {},
   "outputs": [
    {
     "name": "stdout",
     "output_type": "stream",
     "text": [
      "10.0 10.0\n",
      "69.11235124005208\n"
     ]
    }
   ],
   "source": [
    "def get_U(U):\n",
    "    U_total = np.zeros((2, 2, 2, 2), dtype=np.float64)\n",
    "    U_total[0, 0, 1, 1] = -U\n",
    "    U_total[0, 1, 0, 1] = +U\n",
    "    U_total[1, 0, 1, 0] = +U\n",
    "    U_total[1, 1, 0, 0] = -U\n",
    "    \n",
    "    return U_total\n",
    "\n",
    "U_total = get_U(10)\n",
    "U_s = U_total[0, 0, 0, 0] - U_total[0, 0, 1, 1]\n",
    "U_c = -U_total[0, 0, 0, 0] - U_total[0, 0, 1, 1]\n",
    "print(U_s, U_c)\n",
    "chi_s = susc_0 / (1 - U_s * susc_0)\n",
    "chi_c = susc_0 / (1 + U_c * susc_0)\n",
    "print(np.sum(np.abs(susc_0 - susc_0.T.conj())))"
   ]
  },
  {
   "cell_type": "code",
   "execution_count": 710,
   "metadata": {},
   "outputs": [],
   "source": [
    "Gsinglet = 3. / 2. * U_s * chi_s * U_s + U_s / 2. + U_c / 2. - 0.5 * U_c * chi_c * U_c\n",
    "Gsinglet.shape\n",
    "\n",
    "op = np.zeros((Ls, Ls, Ls, Ls, n_bands, n_bands, n_bands, n_bands), dtype=np.complex128)\n",
    "for kx in range(Ls):\n",
    "    for ky in range(Ls):\n",
    "        for qx in range(Ls):\n",
    "            for qy in range(Ls):\n",
    "                for abar in range(n_bands):\n",
    "                    for bbar in range(n_bands):\n",
    "                        for cbar in range(n_bands):\n",
    "                            for dbar in range(n_bands):\n",
    "                                for a in range(n_bands):\n",
    "                                    for b in range(n_bands):\n",
    "                                        op[kx, ky, qx, qy, abar, bbar, cbar, dbar] -= 1. / Ls ** 2 / beta * Gsinglet[(kx - qx) % Ls, (ky - qy) % Ls, a, abar, bbar, b] * green[qx, qy, a, cbar] * green[-qx % Ls, -qy % Ls, b, dbar]"
   ]
  },
  {
   "cell_type": "code",
   "execution_count": 711,
   "metadata": {},
   "outputs": [
    {
     "data": {
      "text/plain": [
       "(32, 32, 32, 32, 1, 1, 1, 1)"
      ]
     },
     "execution_count": 711,
     "metadata": {},
     "output_type": "execute_result"
    }
   ],
   "source": [
    "op.shape"
   ]
  },
  {
   "cell_type": "code",
   "execution_count": 712,
   "metadata": {},
   "outputs": [],
   "source": [
    "op = op.transpose((0, 1, 4, 5, 2, 3, 6, 7)).reshape((Ls, Ls, n_bands, n_bands, -1))"
   ]
  },
  {
   "cell_type": "code",
   "execution_count": 713,
   "metadata": {},
   "outputs": [
    {
     "data": {
      "text/plain": [
       "(32, 32, 1, 1, 1024)"
      ]
     },
     "execution_count": 713,
     "metadata": {},
     "output_type": "execute_result"
    }
   ],
   "source": [
    "op.shape"
   ]
  },
  {
   "cell_type": "code",
   "execution_count": 714,
   "metadata": {},
   "outputs": [],
   "source": [
    "op = op.transpose((4, 0, 1, 2, 3)).reshape((Ls ** 2 * n_bands ** 2, -1))"
   ]
  },
  {
   "cell_type": "code",
   "execution_count": 722,
   "metadata": {},
   "outputs": [
    {
     "name": "stdout",
     "output_type": "stream",
     "text": [
      "111383.56690585878 59282.46562684646\n"
     ]
    }
   ],
   "source": [
    "print(np.sum(np.abs(op - op.T)), np.sum(np.abs(op)))"
   ]
  },
  {
   "cell_type": "code",
   "execution_count": 724,
   "metadata": {},
   "outputs": [
    {
     "name": "stdout",
     "output_type": "stream",
     "text": [
      "[0.02816346-1.05463814e-16j 0.01979412+5.29718523e-16j]\n"
     ]
    }
   ],
   "source": [
    "from scipy.sparse.linalg import eigsh\n",
    "E, eig = eigs(op, k=2, which='LR')\n",
    "print(E)"
   ]
  },
  {
   "cell_type": "code",
   "execution_count": 702,
   "metadata": {},
   "outputs": [
    {
     "data": {
      "text/plain": [
       "array([], dtype=complex128)"
      ]
     },
     "execution_count": 702,
     "metadata": {},
     "output_type": "execute_result"
    }
   ],
   "source": [
    "eig[:, 0][np.where(np.abs(eig[:, 0]) > 3e-1)[0]]"
   ]
  },
  {
   "cell_type": "code",
   "execution_count": 703,
   "metadata": {},
   "outputs": [
    {
     "name": "stdout",
     "output_type": "stream",
     "text": [
      "[]\n",
      "[]\n"
     ]
    }
   ],
   "source": [
    "print(np.where(np.abs(eig[:, 0]) > 3e-1)[0] // Ls)\n",
    "print(np.where(np.abs(eig[:, 0]) > 3e-1)[0] % Ls)"
   ]
  },
  {
   "cell_type": "code",
   "execution_count": 704,
   "metadata": {},
   "outputs": [
    {
     "data": {
      "image/png": "[encoded data removed]",
      "text/plain": [
       "<Figure size 432x288 with 2 Axes>"
      ]
     },
     "metadata": {
      "needs_background": "light"
     },
     "output_type": "display_data"
    },
    {
     "data": {
      "image/png": "[encoded data removed]",
      "text/plain": [
       "<Figure size 432x288 with 2 Axes>"
      ]
     },
     "metadata": {
      "needs_background": "light"
     },
     "output_type": "display_data"
    },
    {
     "data": {
      "image/png": "[encoded data removed]",
      "text/plain": [
       "<Figure size 432x288 with 2 Axes>"
      ]
     },
     "metadata": {
      "needs_background": "light"
     },
     "output_type": "display_data"
    },
    {
     "data": {
      "image/png": "[encoded data removed]",
      "text/plain": [
       "<Figure size 432x288 with 2 Axes>"
      ]
     },
     "metadata": {
      "needs_background": "light"
     },
     "output_type": "display_data"
    }
   ],
   "source": [
    "import matplotlib.pyplot as plt\n",
    "maxelem = eig[:, 0][np.argmax(np.abs(eig[:, 0]))]\n",
    "plt.imshow(np.abs(eig[:, 0] / maxelem).reshape((Ls, Ls)), cmap='hot', interpolation='nearest')\n",
    "plt.colorbar()\n",
    "plt.show()\n",
    "\n",
    "import matplotlib.pyplot as plt\n",
    "plt.imshow(np.real(eig[:, 0] / maxelem).reshape((Ls, Ls)), cmap='hot', interpolation='nearest')\n",
    "plt.colorbar()\n",
    "plt.show()\n",
    "\n",
    "import matplotlib.pyplot as plt\n",
    "plt.imshow(np.imag(eig[:, 0] / maxelem).reshape((Ls, Ls)), cmap='hot', interpolation='nearest')\n",
    "plt.colorbar()\n",
    "plt.show()\n",
    "\n",
    "\n",
    "import matplotlib.pyplot as plt\n",
    "plt.imshow(np.angle(eig[:, 0]).reshape((Ls, Ls)) / np.pi - 0.5, cmap='hot', interpolation='nearest')\n",
    "plt.colorbar()\n",
    "plt.show()"
   ]
  },
  {
   "cell_type": "code",
   "execution_count": 705,
   "metadata": {},
   "outputs": [
    {
     "name": "stdout",
     "output_type": "stream",
     "text": [
      "(1.9531146240118928+0j)\n"
     ]
    },
    {
     "data": {
      "text/plain": [
       "array([[0.00024408+0.j, 0.00024645+0.j, 0.00025373+0.j, ...,\n",
       "        0.00026653+0.j, 0.00025373+0.j, 0.00024645+0.j],\n",
       "       [0.00024645+0.j, 0.00024886+0.j, 0.00025629+0.j, ...,\n",
       "        0.00026936+0.j, 0.00025629+0.j, 0.00024886+0.j],\n",
       "       [0.00025373+0.j, 0.00025629+0.j, 0.00026418+0.j, ...,\n",
       "        0.00027809+0.j, 0.00026418+0.j, 0.00025629+0.j],\n",
       "       ...,\n",
       "       [0.00026653+0.j, 0.00026936+0.j, 0.00027809+0.j, ...,\n",
       "        0.00029354+0.j, 0.00027809+0.j, 0.00026936+0.j],\n",
       "       [0.00025373+0.j, 0.00025629+0.j, 0.00026418+0.j, ...,\n",
       "        0.00027809+0.j, 0.00026418+0.j, 0.00025629+0.j],\n",
       "       [0.00024645+0.j, 0.00024886+0.j, 0.00025629+0.j, ...,\n",
       "        0.00026936+0.j, 0.00025629+0.j, 0.00024886+0.j]])"
      ]
     },
     "execution_count": 705,
     "metadata": {},
     "output_type": "execute_result"
    }
   ],
   "source": [
    "print(np.trace(green[:, :, 0, 0]))\n",
    "green[:, :, 0, 0]"
   ]
  },
  {
   "cell_type": "code",
   "execution_count": 706,
   "metadata": {},
   "outputs": [
    {
     "data": {
      "image/png": "[encoded data removed]",
      "text/plain": [
       "<Figure size 432x288 with 2 Axes>"
      ]
     },
     "metadata": {
      "needs_background": "light"
     },
     "output_type": "display_data"
    }
   ],
   "source": [
    "Gsingletreal = np.diag(fft.dot(np.diag(Gsinglet.reshape(-1))).dot(fft.conj().T)).reshape((32, 32))\n",
    "import matplotlib.pyplot as plt\n",
    "plt.imshow(np.real(Gsinglet).reshape((32, 32)))#, interpolation='nearest')\n",
    "plt.colorbar()\n",
    "plt.show()"
   ]
  },
  {
   "cell_type": "code",
   "execution_count": null,
   "metadata": {},
   "outputs": [],
   "source": []
  },
  {
   "cell_type": "code",
   "execution_count": null,
   "metadata": {},
   "outputs": [],
   "source": []
  },
  {
   "cell_type": "code",
   "execution_count": null,
   "metadata": {},
   "outputs": [],
   "source": []
  }
 ],
 "metadata": {
  "kernelspec": {
   "display_name": "Python 3",
   "language": "python",
   "name": "python3"
  },
  "language_info": {
   "codemirror_mode": {
    "name": "ipython",
    "version": 3
   },
   "file_extension": ".py",
   "mimetype": "text/x-python",
   "name": "python",
   "nbconvert_exporter": "python",
   "pygments_lexer": "ipython3",
   "version": "3.7.3"
  }
 },
 "nbformat": 4,
 "nbformat_minor": 4
}
